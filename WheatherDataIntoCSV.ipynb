{
 "cells": [
  {
   "cell_type": "code",
   "execution_count": 1,
   "metadata": {},
   "outputs": [],
   "source": [
    "import requests\n",
    "import pandas as pd\n",
    "import json\n",
    "import string"
   ]
  },
  {
   "cell_type": "code",
   "execution_count": 2,
   "metadata": {},
   "outputs": [],
   "source": [
    "df = None\n",
    "df2 = None\n",
    "cities = ['Jerusalem','Tel Aviv','Haifa','Holon','Bat Yam','netanya',\n",
    "          'ashdod','eilat','ramat gan','rehovot','dimona','ramla',\n",
    "          'tiberias','afula','petah tiqva','rishon le zion','rehovot','hadera', 'herzliya',\n",
    "         'Hod HaSharon','Kfar Saba']"
   ]
  },
  {
   "cell_type": "code",
   "execution_count": 3,
   "metadata": {},
   "outputs": [],
   "source": [
    "years = ['1999','1998','1997','1996','1995','1994','1993','1992' , '1991', '1990', '1989']\n",
    "months = ['01','02','03','04','05','06','07','08','09','10','11','12']\n",
    "days28 = ['01','02','03','04','05','06','07','08','09','10','11','12',\n",
    "          '13','14','15','16','17','18','19','20','21','22','23','24','25','26','27','28']\n",
    "days30 =['01','02','03','04','05','06','07','08','09','10','11','12',\n",
    "          '13','14','15','16','17','18','19','20','21','22','23','24','25','26','27','28','29','30']\n",
    "days31 =['01','02','03','04','05','06','07','08','09','10','11','12',\n",
    "          '13','14','15','16','17','18','19','20','21','22','23','24','25','26','27','28','29','30','31']"
   ]
  },
  {
   "cell_type": "code",
   "execution_count": null,
   "metadata": {},
   "outputs": [],
   "source": [
    "\n",
    "for year in years:\n",
    "    for month in months:\n",
    "        if (month =='01' or month =='03' or month =='05' or month =='07' or month =='08' or month =='10' or month =='12'):\n",
    "            days = days31\n",
    "        elif month == '02':\n",
    "            days = days28\n",
    "        else:\n",
    "            days = days30\n",
    "        for day in days:\n",
    "            date=year+\"-\"+month+\"-\"+day\n",
    "            for city in cities:\n",
    "                evening = requests.get(\"http://api.weatherapi.com/v1/history.json?key=db7fd6ffa7c24700b05100134211405&q=\"\n",
    "                                 +city+\"&dt=\"+date+\"&hour=20\")\n",
    "                if evening.ok:\n",
    "                    try:\n",
    "                        eveningJ = (json.dumps(evening.json()[\"forecast\"][\"forecastday\"]))\n",
    "\n",
    "                        eveningSTR = eveningJ.split(\"hour\")\n",
    "\n",
    "                        eveningSTR2 = (eveningSTR[1][4:len(eveningSTR[1])-3])\n",
    "\n",
    "                        eveningDict = eval(eveningSTR2.replace(\", \\\"condition\\\": {}\",''))\n",
    "\n",
    "                        eveningDict[\"city\"]=city\n",
    "\n",
    "                        eveningTime=eveningDict[\"time\"]\n",
    "                        eveningTime=eveningTime.split(\" \")\n",
    "                        #eveningDict[\"date\"]=eveningTime[0]\n",
    "                        date=eveningTime[0]\n",
    "                        dateSPLT = date.split(\"-\")\n",
    "                        eveningDict[\"year\"] = dateSPLT[0]\n",
    "                        eveningDict[\"month\"] = dateSPLT[1]\n",
    "                        eveningDict[\"day\"] = dateSPLT[2]\n",
    "                        eveningDict[\"hour\"]=eveningTime[1]\n",
    "                        del eveningDict[\"time\"]\n",
    "\n",
    "                        month2 = int(month)\n",
    "                        day2 = int(day)\n",
    "\n",
    "\n",
    "                        if (month2 == 9 and day2 <=22) or (month2 == 6 and day2 >=21) or (month2==7) or (month2==8):\n",
    "                            eveningDict[\"season\"]=\"summer\"\n",
    "                        if (month2 == 9 and day2 >22) or (month2 == 12 and day2 <21) or (month2 == 10) or (month2 == 11):\n",
    "                            eveningDict[\"season\"]=\"fall\"\n",
    "                        if (month2 == 6 and day2 <22) or (month2 == 3 and day2 >=20 ) or (month2 == 4) or (month2 == 5) :  \n",
    "                            eveningDict[\"season\"]=\"spring\"\n",
    "                        if (month2 == 12 and day2 >20) or (month2 == 3 and day2 <20 ) or (month2 == 1) or (month2 == 2) :  \n",
    "                            eveningDict[\"season\"]=\"winter\"\n",
    "\n",
    "\n",
    "                        if df is None:\n",
    "                            df = (pd.json_normalize(eveningDict))\n",
    "                        else:\n",
    "                            df = df.append(pd.json_normalize(eveningDict))    \n",
    "                    except:\n",
    "                        print(\"Catch!\")\n",
    "                        continue\n",
    "\n"
   ]
  },
  {
   "cell_type": "code",
   "execution_count": null,
   "metadata": {},
   "outputs": [],
   "source": [
    "df"
   ]
  },
  {
   "cell_type": "code",
   "execution_count": null,
   "metadata": {},
   "outputs": [],
   "source": [
    "df.to_csv('wheatherNEW.csv', mode='a', header=False)"
   ]
  },
  {
   "cell_type": "code",
   "execution_count": null,
   "metadata": {},
   "outputs": [],
   "source": [
    "\n",
    "for year in years:\n",
    "    for month in months:\n",
    "        if (month =='01' or month =='03' or month =='05' or month =='07' or month =='08' or month =='10' or month =='12'):\n",
    "            days = days31\n",
    "        elif month == '02':\n",
    "            days = days28\n",
    "        else:\n",
    "            days = days30\n",
    "        for day in days:\n",
    "            date=year+\"-\"+month+\"-\"+day\n",
    "            for city in cities:\n",
    "                noon = requests.get(\"http://api.weatherapi.com/v1/history.json?key=db7fd6ffa7c24700b05100134211405&q=\"\n",
    "                                 +city+\"&dt=\"+date+\"&hour=13\")\n",
    "\n",
    "\n",
    "                noonJ = (json.dumps(noon.json()[\"forecast\"][\"forecastday\"]))\n",
    "\n",
    "                noonSTR = noonJ.split(\"hour\")\n",
    "\n",
    "                \n",
    "                noonSTR2=(noonSTR[1][4:len(noonSTR[1])-3])\n",
    "\n",
    "                noonDict = eval(noonSTR2.replace(\", \\\"condition\\\": {}\",''))\n",
    "\n",
    "                noonDict[\"city\"]=city\n",
    "\n",
    "                noonTime=noonDict[\"time\"]\n",
    "                noonTime=noonTime.split(\" \")\n",
    "                #noonDict[\"date\"]=noonTime[0]\n",
    "                date=noonTime[0]\n",
    "                dateSPLT = date.split(\"-\")\n",
    "                noonDict[\"year\"] = dateSPLT[0]\n",
    "                noonDict[\"month\"] = dateSPLT[1]\n",
    "                noonDict[\"day\"] = dateSPLT[2] \n",
    "                noonDict[\"hour\"]=noonTime[1]\n",
    "                del noonDict[\"time\"]\n",
    "\n",
    "                \n",
    "                month2 = int(month)\n",
    "                day2 = int(day)\n",
    "\n",
    "\n",
    "                if (month2 == 9 and day2 <=22) or (month2 == 6 and day2 >=21) or (month2==7) or (month2==8):\n",
    "                    noonDict[\"season\"]=\"summer\"\n",
    "                if (month2 == 9 and day2 >22) or (month2 == 12 and day2 <21) or (month2 == 10) or (month2 == 11):\n",
    "                    noonDict[\"season\"]=\"fall\"\n",
    "                if (month2 == 6 and day2 <22) or (month2 == 3 and day2 >=20 ) or (month2 == 4) or (month2 == 5) :  \n",
    "                    noonDict[\"season\"]=\"spring\"\n",
    "                if (month2 == 12 and day2 >20) or (month2 == 3 and day2 <20 ) or (month2 == 1) or (month2 == 2) :  \n",
    "                    noonDict[\"season\"]=\"winter\"\n",
    "    \n",
    "    \n",
    "                if (df2 is None) or (df is None):\n",
    "                    df2 = pd.json_normalize(noonDict)\n",
    "                else:\n",
    "                    df2 = df2.append(pd.json_normalize(noonDict))\n",
    "  "
   ]
  },
  {
   "cell_type": "code",
   "execution_count": null,
   "metadata": {},
   "outputs": [],
   "source": [
    "df2.to_csv('wheatherNEW.csv')"
   ]
  }
 ],
 "metadata": {
  "kernelspec": {
   "display_name": "Python 3",
   "language": "python",
   "name": "python3"
  },
  "language_info": {
   "codemirror_mode": {
    "name": "ipython",
    "version": 3
   },
   "file_extension": ".py",
   "mimetype": "text/x-python",
   "name": "python",
   "nbconvert_exporter": "python",
   "pygments_lexer": "ipython3",
   "version": "3.8.5"
  }
 },
 "nbformat": 4,
 "nbformat_minor": 4
}
